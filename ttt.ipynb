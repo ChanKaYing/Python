{
 "cells": [
  {
   "cell_type": "code",
   "execution_count": 1,
   "id": "ee2a5ac1-758e-4e38-83ff-4022780c0e9d",
   "metadata": {},
   "outputs": [
    {
     "name": "stdout",
     "output_type": "stream",
     "text": [
      "  |   |  \n",
      "--+---+--\n",
      "  |   |  \n",
      "--+---+--\n",
      "  |   |  \n"
     ]
    },
    {
     "name": "stdin",
     "output_type": "stream",
     "text": [
      "Turn for X, Move to which space? (top-l, top-c, top-r, mid-l, mid-c, mid-r, bot-l, bot-c, bot-r):  top-c\n"
     ]
    },
    {
     "name": "stdout",
     "output_type": "stream",
     "text": [
      "  | X |  \n",
      "--+---+--\n",
      "  |   |  \n",
      "--+---+--\n",
      "  |   |  \n"
     ]
    },
    {
     "name": "stdin",
     "output_type": "stream",
     "text": [
      "Turn for O, Move to which space? (top-l, top-c, top-r, mid-l, mid-c, mid-r, bot-l, bot-c, bot-r):  mid-l\n"
     ]
    },
    {
     "name": "stdout",
     "output_type": "stream",
     "text": [
      "  | X |  \n",
      "--+---+--\n",
      "O |   |  \n",
      "--+---+--\n",
      "  |   |  \n"
     ]
    },
    {
     "name": "stdin",
     "output_type": "stream",
     "text": [
      "Turn for X, Move to which space? (top-l, top-c, top-r, mid-l, mid-c, mid-r, bot-l, bot-c, bot-r):  mid-c\n"
     ]
    },
    {
     "name": "stdout",
     "output_type": "stream",
     "text": [
      "  | X |  \n",
      "--+---+--\n",
      "O | X |  \n",
      "--+---+--\n",
      "  |   |  \n"
     ]
    },
    {
     "name": "stdin",
     "output_type": "stream",
     "text": [
      "Turn for O, Move to which space? (top-l, top-c, top-r, mid-l, mid-c, mid-r, bot-l, bot-c, bot-r):  top-r\n"
     ]
    },
    {
     "name": "stdout",
     "output_type": "stream",
     "text": [
      "  | X | O\n",
      "--+---+--\n",
      "O | X |  \n",
      "--+---+--\n",
      "  |   |  \n"
     ]
    },
    {
     "name": "stdin",
     "output_type": "stream",
     "text": [
      "Turn for X, Move to which space? (top-l, top-c, top-r, mid-l, mid-c, mid-r, bot-l, bot-c, bot-r):  mid-c\n"
     ]
    },
    {
     "name": "stdout",
     "output_type": "stream",
     "text": [
      "Invalid move, try again.\n",
      "  | X | O\n",
      "--+---+--\n",
      "O | X |  \n",
      "--+---+--\n",
      "  |   |  \n"
     ]
    },
    {
     "name": "stdin",
     "output_type": "stream",
     "text": [
      "Turn for X, Move to which space? (top-l, top-c, top-r, mid-l, mid-c, mid-r, bot-l, bot-c, bot-r):  bot-c\n"
     ]
    },
    {
     "name": "stdout",
     "output_type": "stream",
     "text": [
      "  | X | O\n",
      "--+---+--\n",
      "O | X |  \n",
      "--+---+--\n",
      "  | X |  \n",
      "Congratulations! X wins!\n"
     ]
    }
   ],
   "source": [
    "# dictionary\n",
    "tictactoe = {\n",
    "    'top-l': ' ', 'top-c': ' ', 'top-r': ' ',\n",
    "    'mid-l': ' ', 'mid-c': ' ', 'mid-r': ' ',\n",
    "    'bot-l': ' ', 'bot-c': ' ', 'bot-r': ' '\n",
    "}\n",
    "\n",
    "# print the Tic Tac Toe board\n",
    "def print_board(board):\n",
    "    #Prints the current state of the game board\n",
    "    print(board['top-l'], \"|\", board['top-c'], \"|\", board['top-r'])\n",
    "    print(\"--+---+--\")\n",
    "    print(board['mid-l'], \"|\", board['mid-c'], \"|\", board['mid-r'])\n",
    "    print(\"--+---+--\")\n",
    "    print(board['bot-l'], \"|\", board['bot-c'], \"|\", board['bot-r'])\n",
    "\n",
    "# check for a winner\n",
    "def check_winner(board, player):\n",
    "    #Checks if the current player has won\n",
    "    win_conditions = [\n",
    "        ['top-l', 'top-c', 'top-r'], ['mid-l', 'mid-c', 'mid-r'], ['bot-l', 'bot-c', 'bot-r'],  # Horizontals\n",
    "        ['top-l', 'mid-l', 'bot-l'], ['top-c', 'mid-c', 'bot-c'], ['top-r', 'mid-r', 'bot-r'],  # Verticals\n",
    "        ['top-l', 'mid-c', 'bot-r'], ['top-r', 'mid-c', 'bot-l']                                # Diagonals\n",
    "    ]\n",
    "    for condition in win_conditions:\n",
    "        if board[condition[0]] == board[condition[1]] == board[condition[2]] == player:\n",
    "            return True\n",
    "    return False\n",
    "\n",
    "# handle a player's move\n",
    "def make_move(board, position, player):\n",
    "    if board[position] == ' ':  # Check if the position is empty\n",
    "        board[position] = player  # Place the player's mark on the board\n",
    "        return True\n",
    "    else:\n",
    "        print(\"Invalid move. Position already taken.\")\n",
    "        return False\n",
    "\n",
    "def is_board_full(board):\n",
    "    \"\"\"Checks if the board is full.\"\"\"\n",
    "    return all(value != ' ' for value in board.values())\n",
    "\n",
    "def main():\n",
    "    # initialize the board with descriptive keys\n",
    "    tictactoe\n",
    "    current_player = 'X'\n",
    "    \n",
    "    # loop\n",
    "    while True:\n",
    "        print_board(tictactoe)\n",
    "        \n",
    "        # Get player input\n",
    "        move = input(f\"Turn for {current_player}, Move to which space? (top-l, top-c, top-r, mid-l, mid-c, mid-r, bot-l, bot-c, bot-r): \")\n",
    "        \n",
    "        # Validate move\n",
    "        if move not in tictactoe or tictactoe[move] != ' ':\n",
    "            print(\"Invalid move, try again.\")\n",
    "            continue\n",
    "        \n",
    "        # Update the board\n",
    "        tictactoe[move] = current_player\n",
    "        \n",
    "        # Check for a winner\n",
    "        if check_winner(tictactoe, current_player):\n",
    "            print_board(tictactoe)\n",
    "            print(f\"Congratulations! {current_player} wins!\")\n",
    "            break\n",
    "        \n",
    "        # Check for a draw\n",
    "        if is_board_full(tictactoe):\n",
    "            print_board(tictactoe)\n",
    "            print(\"Draw!\")\n",
    "            break\n",
    "        \n",
    "        # Switch player\n",
    "        current_player = 'O' if current_player == 'X' else 'X'\n",
    "\n",
    "if __name__ == \"__main__\":\n",
    "    main()\n"
   ]
  },
  {
   "cell_type": "code",
   "execution_count": null,
   "id": "57f13a3b-5665-46d7-85dd-01b692f1f98f",
   "metadata": {},
   "outputs": [],
   "source": []
  }
 ],
 "metadata": {
  "kernelspec": {
   "display_name": "Python 3 (ipykernel)",
   "language": "python",
   "name": "python3"
  },
  "language_info": {
   "codemirror_mode": {
    "name": "ipython",
    "version": 3
   },
   "file_extension": ".py",
   "mimetype": "text/x-python",
   "name": "python",
   "nbconvert_exporter": "python",
   "pygments_lexer": "ipython3",
   "version": "3.10.9"
  }
 },
 "nbformat": 4,
 "nbformat_minor": 5
}
